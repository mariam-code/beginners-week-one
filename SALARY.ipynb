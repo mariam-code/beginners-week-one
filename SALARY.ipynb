{
  "nbformat": 4,
  "nbformat_minor": 0,
  "metadata": {
    "colab": {
      "provenance": [],
      "authorship_tag": "ABX9TyOfHZyrIvRCEoyA+Jp38h2S",
      "include_colab_link": true
    },
    "kernelspec": {
      "name": "python3",
      "display_name": "Python 3"
    },
    "language_info": {
      "name": "python"
    }
  },
  "cells": [
    {
      "cell_type": "markdown",
      "metadata": {
        "id": "view-in-github",
        "colab_type": "text"
      },
      "source": [
        "<a href=\"https://colab.research.google.com/github/mariam-code/beginners-week-one/blob/master/SALARY.ipynb\" target=\"_parent\"><img src=\"https://colab.research.google.com/assets/colab-badge.svg\" alt=\"Open In Colab\"/></a>"
      ]
    },
    {
      "cell_type": "code",
      "source": [
        "import pandas as pd # Import the pandas library for data manipulation\n",
        "\n",
        "# Read the CSV file into a pandas DataFrame\n",
        "df_nba = pd.read_csv('/content/salaries_1985to2018.csv')"
      ],
      "metadata": {
        "id": "ijkZUBgBNJwx"
      },
      "execution_count": 6,
      "outputs": []
    },
    {
      "cell_type": "code",
      "source": [
        "# Import necessary library\n",
        "from sklearn.model_selection import train_test_split\n",
        "from copy import deepcopy\n",
        "\n",
        "\n",
        "# Step 1: Split the data into 90% intermediate data and 10% test data\n",
        "nba_X_intermediate, nba_X_test, nba_Y_intermediate, nba_Y_test = train_test_split(\n",
        "    df_nba.drop(labels=[\"salary\"], axis='columns'),  # Features (X)\n",
        "    df_nba[\"salary\"],                               # Target variable (Y)\n",
        "    test_size=0.10,                                 # 10% for testing (unseen)\n",
        "    random_state=42                                 # Ensures reproducibility\n",
        ")\n",
        "\n",
        "# Step 2: Split the 90% intermediate data into 80% training and 10% validation\n",
        "nba_X_train, nba_X_validate, nba_Y_train, nba_Y_validate = train_test_split(\n",
        "    nba_X_intermediate, nba_Y_intermediate,  # Intermediate features and target\n",
        "    test_size=0.1,                           # 10% for validation (initially unseen)\n",
        "    random_state=42                          # Ensures reproducibility\n",
        ")\n"
      ],
      "metadata": {
        "id": "DCMdVqQJ9e38"
      },
      "execution_count": 7,
      "outputs": []
    }
  ]
}